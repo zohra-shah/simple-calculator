{
  "cells": [
    {
      "cell_type": "markdown",
      "metadata": {
        "id": "view-in-github",
        "colab_type": "text"
      },
      "source": [
        "<a href=\"https://colab.research.google.com/github/zohra-shah/simple-calculator/blob/main/app_pyt.ipynb\" target=\"_parent\"><img src=\"https://colab.research.google.com/assets/colab-badge.svg\" alt=\"Open In Colab\"/></a>"
      ]
    },
    {
      "cell_type": "code",
      "source": [],
      "metadata": {
        "id": "fZM3pGSOGOSb"
      },
      "execution_count": null,
      "outputs": []
    },
    {
      "cell_type": "markdown",
      "source": [
        "# **practice session python # New Section**"
      ],
      "metadata": {
        "id": "hEKheNycGSaX"
      }
    },
    {
      "cell_type": "code",
      "source": [
        "import streamlit as st\n",
        "\n",
        "# Functions for the calculator\n",
        "def add(x, y):\n",
        "    return x + y\n",
        "\n",
        "def subtract(x, y):\n",
        "    return x - y\n",
        "\n",
        "def multiply(x, y):\n",
        "    return x * y\n",
        "\n",
        "def divide(x, y):\n",
        "    if y != 0:\n",
        "        return x / y\n",
        "    else:\n",
        "        return \"Cannot divide by zero!\"\n",
        "\n",
        "# Streamlit app\n",
        "st.title(\"Simple Calculator\")\n",
        "\n",
        "# Select operation\n",
        "operation = st.selectbox(\"Select operation:\", [\"Add\", \"Subtract\", \"Multiply\", \"Divide\"])\n",
        "\n",
        "# Input numbers\n",
        "num1 = st.number_input(\"Enter first number:\", value=0.0)\n",
        "num2 = st.number_input(\"Enter second number:\", value=0.0)\n",
        "\n",
        "# Calculate result based on selected operation\n",
        "if st.button(\"Calculate\"):\n",
        "    if operation == \"Add\":\n",
        "        result = add(num1, num2)\n",
        "    elif operation == \"Subtract\":\n",
        "        result = subtract(num1, num2)\n",
        "    elif operation == \"Multiply\":\n",
        "        result = multiply(num1, num2)\n",
        "    elif operation == \"Divide\":\n",
        "        result = divide(num1, num2)\n",
        "\n",
        "    st.write(f\"Result: {result}\")\n",
        "\n",
        "# Run the app with: streamlit run calculator.py\n"
      ],
      "metadata": {
        "id": "HLR0j2NuGlMm",
        "outputId": "859f4719-c2b0-4d20-c81f-cea5c54e6120",
        "colab": {
          "base_uri": "https://localhost:8080/"
        }
      },
      "execution_count": null,
      "outputs": [
        {
          "name": "stdout",
          "output_type": "stream",
          "text": [
            "Select operation:\n",
            "1. Add\n",
            "2. Subtract\n",
            "3. Multiply\n",
            "4. Divide\n",
            "Enter choice (1/2/3/4): 3\n",
            "Enter first number: 100\n",
            "Enter second number: 50\n",
            "100.0 * 50.0 = 5000.0\n",
            "Do you want to perform another calculation? (yes/no): yes\n",
            "Enter choice (1/2/3/4): 4\n",
            "Enter first number: 8\n",
            "Enter second number: 6\n",
            "8.0 / 6.0 = 1.3333333333333333\n",
            "Do you want to perform another calculation? (yes/no): yes\n",
            "Enter choice (1/2/3/4): 2\n",
            "Enter first number: 87\n",
            "Enter second number: 85\n",
            "87.0 - 85.0 = 2.0\n",
            "Do you want to perform another calculation? (yes/no): yes\n",
            "Enter choice (1/2/3/4): 1\n",
            "Enter first number: 50\n",
            "Enter second number: 0\n",
            "50.0 + 0.0 = 50.0\n",
            "Do you want to perform another calculation? (yes/no): no\n"
          ]
        }
      ]
    }
  ],
  "metadata": {
    "colab": {
      "provenance": [],
      "include_colab_link": true
    },
    "kernelspec": {
      "display_name": "Python 3",
      "name": "python3"
    }
  },
  "nbformat": 4,
  "nbformat_minor": 0
}