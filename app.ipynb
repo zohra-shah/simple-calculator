{
  "nbformat": 4,
  "nbformat_minor": 0,
  "metadata": {
    "colab": {
      "provenance": [],
      "authorship_tag": "ABX9TyPGETax8gRIMKVUlN8FIAXo",
      "include_colab_link": true
    },
    "kernelspec": {
      "name": "python3",
      "display_name": "Python 3"
    },
    "language_info": {
      "name": "python"
    }
  },
  "cells": [
    {
      "cell_type": "markdown",
      "metadata": {
        "id": "view-in-github",
        "colab_type": "text"
      },
      "source": [
        "<a href=\"https://colab.research.google.com/github/zohra-shah/simple-calculator/blob/main/app.ipynb\" target=\"_parent\"><img src=\"https://colab.research.google.com/assets/colab-badge.svg\" alt=\"Open In Colab\"/></a>"
      ]
    },
    {
      "cell_type": "code",
      "execution_count": null,
      "metadata": {
        "id": "fZ8HLK2C-JTK"
      },
      "outputs": [],
      "source": [
        "import streamlit as st\n",
        "import math\n",
        "\n",
        "# Title of the app\n",
        "st.title(\"Scientific Calculator\")\n",
        "\n",
        "# Operation selection\n",
        "st.header(\"Select an operation:\")\n",
        "operation = st.selectbox(\n",
        "    \"Choose an operation:\",\n",
        "    (\"Addition\", \"Subtraction\", \"Multiplication\", \"Division\", \"Exponentiation\", \"Square Root\", \"Sine\", \"Cosine\", \"Tangent\")\n",
        ")\n",
        "\n",
        "# Input for numbers\n",
        "num1 = st.number_input(\"Enter first number:\", value=0.0)\n",
        "if operation in (\"Addition\", \"Subtraction\", \"Multiplication\", \"Division\", \"Exponentiation\"):\n",
        "    num2 = st.number_input(\"Enter second number:\", value=0.0)\n",
        "\n",
        "# Calculation based on the selected operation\n",
        "if st.button(\"Calculate\"):\n",
        "    if operation == \"Addition\":\n",
        "        result = num1 + num2\n",
        "    elif operation == \"Subtraction\":\n",
        "        result = num1 - num2\n",
        "    elif operation == \"Multiplication\":\n",
        "        result = num1 * num2\n",
        "    elif operation == \"Division\":\n",
        "        if num2 != 0:\n",
        "            result = num1 / num2\n",
        "        else:\n",
        "            result = \"Error: Division by zero!\"\n",
        "    elif operation == \"Exponentiation\":\n",
        "        result = math.pow(num1, num2)\n",
        "    elif operation == \"Square Root\":\n",
        "        result = math.sqrt(num1)\n",
        "    elif operation == \"Sine\":\n",
        "        result = math.sin(num1)\n",
        "    elif operation == \"Cosine\":\n",
        "        result = math.cos(num1)\n",
        "    elif operation == \"Tangent\":\n",
        "        result = math.tan(num1)\n",
        "\n",
        "    st.write(f\"Result: {result}\")\n",
        "\n",
        ""
      ]
    }
  ]
}